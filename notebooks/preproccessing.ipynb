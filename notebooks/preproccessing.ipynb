{
 "cells": [
  {
   "cell_type": "code",
   "execution_count": 92,
   "id": "12e2555e",
   "metadata": {},
   "outputs": [],
   "source": [
    "import pandas as pd\n",
    "import numpy as np\n",
    "import re\n",
    "import os\n",
    "from sklearn.preprocessing import LabelEncoder"
   ]
  },
  {
   "cell_type": "code",
   "execution_count": 93,
   "id": "67c12af8",
   "metadata": {},
   "outputs": [],
   "source": [
    "bayut = pd.read_csv(\"bayut_properties.csv\")\n",
    "dubizzle = pd.read_csv(\"dubizzle_properties.csv\")"
   ]
  },
  {
   "cell_type": "code",
   "execution_count": 94,
   "id": "e3589b3d",
   "metadata": {},
   "outputs": [],
   "source": [
    "bayut[\"source\"] = \"bayut\"\n",
    "dubizzle[\"source\"] = \"dubizzle\"\n"
   ]
  },
  {
   "cell_type": "code",
   "execution_count": 95,
   "id": "4198dde6",
   "metadata": {},
   "outputs": [
    {
     "name": "stdout",
     "output_type": "stream",
     "text": [
      " Combined dataset shape: (6356, 15)\n"
     ]
    }
   ],
   "source": [
    "df = pd.concat([bayut, dubizzle], ignore_index=True)\n",
    "print(f\" Combined dataset shape: {df.shape}\")"
   ]
  },
  {
   "cell_type": "code",
   "execution_count": 96,
   "id": "423d6676",
   "metadata": {},
   "outputs": [
    {
     "data": {
      "text/html": [
       "<div>\n",
       "<style scoped>\n",
       "    .dataframe tbody tr th:only-of-type {\n",
       "        vertical-align: middle;\n",
       "    }\n",
       "\n",
       "    .dataframe tbody tr th {\n",
       "        vertical-align: top;\n",
       "    }\n",
       "\n",
       "    .dataframe thead th {\n",
       "        text-align: right;\n",
       "    }\n",
       "</style>\n",
       "<table border=\"1\" class=\"dataframe\">\n",
       "  <thead>\n",
       "    <tr style=\"text-align: right;\">\n",
       "      <th></th>\n",
       "      <th>bathrooms</th>\n",
       "      <th>bedrooms</th>\n",
       "      <th>furnishing</th>\n",
       "      <th>link</th>\n",
       "      <th>listing_id</th>\n",
       "      <th>listing_type</th>\n",
       "      <th>location</th>\n",
       "      <th>price</th>\n",
       "      <th>property_type</th>\n",
       "      <th>purpose</th>\n",
       "      <th>size_sqm</th>\n",
       "      <th>title</th>\n",
       "      <th>source</th>\n",
       "      <th>added_on</th>\n",
       "      <th>completion</th>\n",
       "    </tr>\n",
       "  </thead>\n",
       "  <tbody>\n",
       "    <tr>\n",
       "      <th>0</th>\n",
       "      <td>5 Baths</td>\n",
       "      <td>5 Beds</td>\n",
       "      <td>Furnished</td>\n",
       "      <td>https://www.bayut.om/en/property/details-50002...</td>\n",
       "      <td>500024656</td>\n",
       "      <td>Villa</td>\n",
       "      <td>Al Buraimi, Al Buraimi</td>\n",
       "      <td>1,200</td>\n",
       "      <td>Villa</td>\n",
       "      <td>For Sale</td>\n",
       "      <td>1,500 Sq. M.</td>\n",
       "      <td>5 Bedrooms Villa for Sale in Oman</td>\n",
       "      <td>bayut</td>\n",
       "      <td>NaN</td>\n",
       "      <td>NaN</td>\n",
       "    </tr>\n",
       "    <tr>\n",
       "      <th>1</th>\n",
       "      <td>3 Baths</td>\n",
       "      <td>3 Beds</td>\n",
       "      <td>Furnished</td>\n",
       "      <td>https://www.bayut.om/en/property/details-50002...</td>\n",
       "      <td>500024649</td>\n",
       "      <td>Apartment</td>\n",
       "      <td>Mahut, Al Wusta</td>\n",
       "      <td>1,200</td>\n",
       "      <td>Apartment</td>\n",
       "      <td>For Sale</td>\n",
       "      <td>1,000 Sq. M.</td>\n",
       "      <td>3 Bedrooms Apartment For Sale Mahut, Al Wusta</td>\n",
       "      <td>bayut</td>\n",
       "      <td>NaN</td>\n",
       "      <td>NaN</td>\n",
       "    </tr>\n",
       "    <tr>\n",
       "      <th>2</th>\n",
       "      <td>5 Baths</td>\n",
       "      <td>5 Beds</td>\n",
       "      <td>Furnished</td>\n",
       "      <td>https://www.bayut.om/en/property/details-50002...</td>\n",
       "      <td>500024648</td>\n",
       "      <td>Villa</td>\n",
       "      <td>Qantab, Muscat</td>\n",
       "      <td>1,500</td>\n",
       "      <td>Villa</td>\n",
       "      <td>For Sale</td>\n",
       "      <td>1,500 Sq. M.</td>\n",
       "      <td>5 Bedrooms Villa For Sale in Omani City</td>\n",
       "      <td>bayut</td>\n",
       "      <td>NaN</td>\n",
       "      <td>NaN</td>\n",
       "    </tr>\n",
       "    <tr>\n",
       "      <th>3</th>\n",
       "      <td>5 Baths</td>\n",
       "      <td>5 Beds</td>\n",
       "      <td>Furnished</td>\n",
       "      <td>https://www.bayut.om/en/property/details-50002...</td>\n",
       "      <td>500024621</td>\n",
       "      <td>Villa</td>\n",
       "      <td>Al Sifah, Muscat</td>\n",
       "      <td>1,500</td>\n",
       "      <td>Villa</td>\n",
       "      <td>For Sale</td>\n",
       "      <td>1,000 Sq. M.</td>\n",
       "      <td>5 Bedrooms Villa For Sale in Al Sifah, Muscat</td>\n",
       "      <td>bayut</td>\n",
       "      <td>NaN</td>\n",
       "      <td>NaN</td>\n",
       "    </tr>\n",
       "    <tr>\n",
       "      <th>4</th>\n",
       "      <td>4 Baths</td>\n",
       "      <td>4 Beds</td>\n",
       "      <td>Furnished</td>\n",
       "      <td>https://www.bayut.om/en/property/details-50002...</td>\n",
       "      <td>500024573</td>\n",
       "      <td>Villa</td>\n",
       "      <td>Hamra, Al Dakhiliya</td>\n",
       "      <td>1,000</td>\n",
       "      <td>Villa</td>\n",
       "      <td>For Sale</td>\n",
       "      <td>1,000 Sq. M.</td>\n",
       "      <td>4 Bedrooms Villa For Sale in Hamra, Al Dakhiliya</td>\n",
       "      <td>bayut</td>\n",
       "      <td>NaN</td>\n",
       "      <td>NaN</td>\n",
       "    </tr>\n",
       "    <tr>\n",
       "      <th>...</th>\n",
       "      <td>...</td>\n",
       "      <td>...</td>\n",
       "      <td>...</td>\n",
       "      <td>...</td>\n",
       "      <td>...</td>\n",
       "      <td>...</td>\n",
       "      <td>...</td>\n",
       "      <td>...</td>\n",
       "      <td>...</td>\n",
       "      <td>...</td>\n",
       "      <td>...</td>\n",
       "      <td>...</td>\n",
       "      <td>...</td>\n",
       "      <td>...</td>\n",
       "      <td>...</td>\n",
       "    </tr>\n",
       "    <tr>\n",
       "      <th>6351</th>\n",
       "      <td>NaN</td>\n",
       "      <td>NaN</td>\n",
       "      <td>NaN</td>\n",
       "      <td>https://www.dubizzle.com.om/en/ad/%D8%A7%D8%B1...</td>\n",
       "      <td>ID129835375.html</td>\n",
       "      <td>For Sale</td>\n",
       "      <td>Suwaiq, Al Batinah</td>\n",
       "      <td>OMR 13,000</td>\n",
       "      <td>NaN</td>\n",
       "      <td>Sale</td>\n",
       "      <td>NaN</td>\n",
       "      <td>ارض قريب البحر للبيع</td>\n",
       "      <td>dubizzle</td>\n",
       "      <td>NaN</td>\n",
       "      <td>NaN</td>\n",
       "    </tr>\n",
       "    <tr>\n",
       "      <th>6352</th>\n",
       "      <td>NaN</td>\n",
       "      <td>NaN</td>\n",
       "      <td>NaN</td>\n",
       "      <td>https://www.dubizzle.com.om/en/ad/%D8%A7%D8%B3...</td>\n",
       "      <td>ID130236522.html</td>\n",
       "      <td>For Sale</td>\n",
       "      <td>Suwaiq, Al Batinah</td>\n",
       "      <td>OMR 85,000</td>\n",
       "      <td>NaN</td>\n",
       "      <td>Sale</td>\n",
       "      <td>NaN</td>\n",
       "      <td>استراحه جديده للبيع</td>\n",
       "      <td>dubizzle</td>\n",
       "      <td>NaN</td>\n",
       "      <td>NaN</td>\n",
       "    </tr>\n",
       "    <tr>\n",
       "      <th>6353</th>\n",
       "      <td>NaN</td>\n",
       "      <td>NaN</td>\n",
       "      <td>NaN</td>\n",
       "      <td>https://www.dubizzle.com.om/en/ad/%D8%A3%D8%B1...</td>\n",
       "      <td>ID130223202.html</td>\n",
       "      <td>For Sale</td>\n",
       "      <td>Ibri, Al Dhahirah</td>\n",
       "      <td>OMR 2,200</td>\n",
       "      <td>NaN</td>\n",
       "      <td>Sale</td>\n",
       "      <td>NaN</td>\n",
       "      <td>أرض الطيب موقع جميل</td>\n",
       "      <td>dubizzle</td>\n",
       "      <td>NaN</td>\n",
       "      <td>NaN</td>\n",
       "    </tr>\n",
       "    <tr>\n",
       "      <th>6354</th>\n",
       "      <td>NaN</td>\n",
       "      <td>NaN</td>\n",
       "      <td>NaN</td>\n",
       "      <td>https://www.dubizzle.com.om/en/ad/all-types-of...</td>\n",
       "      <td>ID129420949.html</td>\n",
       "      <td>For Sale</td>\n",
       "      <td>Al Rusayl, Muscat</td>\n",
       "      <td>OMR 2,000</td>\n",
       "      <td>NaN</td>\n",
       "      <td>Sale</td>\n",
       "      <td>NaN</td>\n",
       "      <td>all types of interlock avaialble watsapp me 95...</td>\n",
       "      <td>dubizzle</td>\n",
       "      <td>NaN</td>\n",
       "      <td>NaN</td>\n",
       "    </tr>\n",
       "    <tr>\n",
       "      <th>6355</th>\n",
       "      <td>NaN</td>\n",
       "      <td>NaN</td>\n",
       "      <td>NaN</td>\n",
       "      <td>https://www.dubizzle.com.om/en/ad/%D8%A7%D8%B1...</td>\n",
       "      <td>ID123786899.html</td>\n",
       "      <td>For Sale</td>\n",
       "      <td>Barka, Al Batinah</td>\n",
       "      <td>OMR 16,500</td>\n",
       "      <td>NaN</td>\n",
       "      <td>Sale</td>\n",
       "      <td>NaN</td>\n",
       "      <td>ارض سكنيه للبيع ولايه بركاء\\n\\n*مربع الهرم الم...</td>\n",
       "      <td>dubizzle</td>\n",
       "      <td>NaN</td>\n",
       "      <td>NaN</td>\n",
       "    </tr>\n",
       "  </tbody>\n",
       "</table>\n",
       "<p>6356 rows × 15 columns</p>\n",
       "</div>"
      ],
      "text/plain": [
       "     bathrooms bedrooms furnishing  \\\n",
       "0      5 Baths   5 Beds  Furnished   \n",
       "1      3 Baths   3 Beds  Furnished   \n",
       "2      5 Baths   5 Beds  Furnished   \n",
       "3      5 Baths   5 Beds  Furnished   \n",
       "4      4 Baths   4 Beds  Furnished   \n",
       "...        ...      ...        ...   \n",
       "6351       NaN      NaN        NaN   \n",
       "6352       NaN      NaN        NaN   \n",
       "6353       NaN      NaN        NaN   \n",
       "6354       NaN      NaN        NaN   \n",
       "6355       NaN      NaN        NaN   \n",
       "\n",
       "                                                   link        listing_id  \\\n",
       "0     https://www.bayut.om/en/property/details-50002...         500024656   \n",
       "1     https://www.bayut.om/en/property/details-50002...         500024649   \n",
       "2     https://www.bayut.om/en/property/details-50002...         500024648   \n",
       "3     https://www.bayut.om/en/property/details-50002...         500024621   \n",
       "4     https://www.bayut.om/en/property/details-50002...         500024573   \n",
       "...                                                 ...               ...   \n",
       "6351  https://www.dubizzle.com.om/en/ad/%D8%A7%D8%B1...  ID129835375.html   \n",
       "6352  https://www.dubizzle.com.om/en/ad/%D8%A7%D8%B3...  ID130236522.html   \n",
       "6353  https://www.dubizzle.com.om/en/ad/%D8%A3%D8%B1...  ID130223202.html   \n",
       "6354  https://www.dubizzle.com.om/en/ad/all-types-of...  ID129420949.html   \n",
       "6355  https://www.dubizzle.com.om/en/ad/%D8%A7%D8%B1...  ID123786899.html   \n",
       "\n",
       "     listing_type                location       price property_type   purpose  \\\n",
       "0           Villa  Al Buraimi, Al Buraimi       1,200         Villa  For Sale   \n",
       "1       Apartment         Mahut, Al Wusta       1,200     Apartment  For Sale   \n",
       "2           Villa          Qantab, Muscat       1,500         Villa  For Sale   \n",
       "3           Villa        Al Sifah, Muscat       1,500         Villa  For Sale   \n",
       "4           Villa     Hamra, Al Dakhiliya       1,000         Villa  For Sale   \n",
       "...           ...                     ...         ...           ...       ...   \n",
       "6351     For Sale      Suwaiq, Al Batinah  OMR 13,000           NaN      Sale   \n",
       "6352     For Sale      Suwaiq, Al Batinah  OMR 85,000           NaN      Sale   \n",
       "6353     For Sale       Ibri, Al Dhahirah   OMR 2,200           NaN      Sale   \n",
       "6354     For Sale       Al Rusayl, Muscat   OMR 2,000           NaN      Sale   \n",
       "6355     For Sale       Barka, Al Batinah  OMR 16,500           NaN      Sale   \n",
       "\n",
       "          size_sqm                                              title  \\\n",
       "0     1,500 Sq. M.                  5 Bedrooms Villa for Sale in Oman   \n",
       "1     1,000 Sq. M.      3 Bedrooms Apartment For Sale Mahut, Al Wusta   \n",
       "2     1,500 Sq. M.            5 Bedrooms Villa For Sale in Omani City   \n",
       "3     1,000 Sq. M.      5 Bedrooms Villa For Sale in Al Sifah, Muscat   \n",
       "4     1,000 Sq. M.   4 Bedrooms Villa For Sale in Hamra, Al Dakhiliya   \n",
       "...            ...                                                ...   \n",
       "6351           NaN                               ارض قريب البحر للبيع   \n",
       "6352           NaN                                استراحه جديده للبيع   \n",
       "6353           NaN                                أرض الطيب موقع جميل   \n",
       "6354           NaN  all types of interlock avaialble watsapp me 95...   \n",
       "6355           NaN  ارض سكنيه للبيع ولايه بركاء\\n\\n*مربع الهرم الم...   \n",
       "\n",
       "        source  added_on  completion  \n",
       "0        bayut       NaN         NaN  \n",
       "1        bayut       NaN         NaN  \n",
       "2        bayut       NaN         NaN  \n",
       "3        bayut       NaN         NaN  \n",
       "4        bayut       NaN         NaN  \n",
       "...        ...       ...         ...  \n",
       "6351  dubizzle       NaN         NaN  \n",
       "6352  dubizzle       NaN         NaN  \n",
       "6353  dubizzle       NaN         NaN  \n",
       "6354  dubizzle       NaN         NaN  \n",
       "6355  dubizzle       NaN         NaN  \n",
       "\n",
       "[6356 rows x 15 columns]"
      ]
     },
     "execution_count": 96,
     "metadata": {},
     "output_type": "execute_result"
    }
   ],
   "source": [
    "df"
   ]
  },
  {
   "cell_type": "code",
   "execution_count": 97,
   "id": "910762dd",
   "metadata": {},
   "outputs": [],
   "source": [
    "import re\n",
    "\n",
    "# Keep only English letters, numbers, and spaces\n",
    "df[\"title\"] = df[\"title\"].astype(str).apply(lambda x: ' '.join(re.findall(r'[A-Za-z0-9]+', x)))\n"
   ]
  },
  {
   "cell_type": "code",
   "execution_count": 98,
   "id": "8d3664f3",
   "metadata": {},
   "outputs": [],
   "source": [
    "empty_titles = df[df[\"title\"].str.strip() == \"\"]\n"
   ]
  },
  {
   "cell_type": "code",
   "execution_count": 99,
   "id": "5f22b11e",
   "metadata": {},
   "outputs": [
    {
     "name": "stdout",
     "output_type": "stream",
     "text": [
      "Rows with empty title: 2201\n",
      "     title                            location        price\n",
      "1081        Al Kamil and Al Waafi, Al Sharqiya        7,500\n",
      "1494                           Al Hail, Muscat          115\n",
      "1802                       Nizwa, Al Dakhiliya       59,000\n",
      "1810                             Ghala, Muscat   OMR 46,000\n",
      "1844                       Al Maabilah, Muscat  OMR 120,000\n"
     ]
    }
   ],
   "source": [
    "print(f\"Rows with empty title: {len(empty_titles)}\")\n",
    "print(empty_titles[[\"title\", \"location\", \"price\"]].head())\n"
   ]
  },
  {
   "cell_type": "code",
   "execution_count": 122,
   "id": "0b77d729",
   "metadata": {},
   "outputs": [
    {
     "name": "stdout",
     "output_type": "stream",
     "text": [
      "bathrooms       0\n",
      "bedrooms        0\n",
      "link            0\n",
      "listing_type    0\n",
      "location        0\n",
      "price           0\n",
      "purpose         0\n",
      "size_sqm        0\n",
      "title           0\n",
      "source          0\n",
      "dtype: int64\n"
     ]
    }
   ],
   "source": [
    "print(df.isnull().sum())\n"
   ]
  },
  {
   "cell_type": "code",
   "execution_count": 101,
   "id": "32712bd2",
   "metadata": {},
   "outputs": [],
   "source": [
    "df[\"size_sqm\"] = (\n",
    "    df[\"size_sqm\"]\n",
    "    .astype(str)\n",
    "    .str.replace(\"Sq. M.\", \"\", regex=False)\n",
    "    .str.replace(\",\", \"\", regex=False)\n",
    "    .str.strip()\n",
    ")\n"
   ]
  },
  {
   "cell_type": "code",
   "execution_count": 102,
   "id": "f64fc971",
   "metadata": {},
   "outputs": [],
   "source": [
    "df[\"size_sqm\"] = pd.to_numeric(df[\"size_sqm\"], errors=\"coerce\")\n"
   ]
  },
  {
   "cell_type": "code",
   "execution_count": 82,
   "id": "5d0a8370",
   "metadata": {},
   "outputs": [],
   "source": [
    "median_size = df[\"size_sqm\"].median()\n",
    "df[\"size_sqm\"] = df[\"size_sqm\"].fillna(median_size)\n"
   ]
  },
  {
   "cell_type": "code",
   "execution_count": 103,
   "id": "5b611ce9",
   "metadata": {},
   "outputs": [],
   "source": [
    "df.drop(columns=[\"listing_id\",\"added_on\",\"completion\",\"furnishing\",\"property_type\"], inplace=True)"
   ]
  },
  {
   "cell_type": "code",
   "execution_count": 104,
   "id": "adc94e1e",
   "metadata": {},
   "outputs": [],
   "source": [
    "df.dropna(subset=[\"bedrooms\", \"bathrooms\"], inplace=True)"
   ]
  },
  {
   "cell_type": "markdown",
   "id": "724cb4cb",
   "metadata": {},
   "source": [
    "## price"
   ]
  },
  {
   "cell_type": "code",
   "execution_count": 105,
   "id": "d099dfa0",
   "metadata": {},
   "outputs": [],
   "source": [
    "df[\"price\"] = (\n",
    "    df[\"price\"]\n",
    "    .astype(str)\n",
    "    .str.replace(\"OMR\", \"\", regex=False)\n",
    "    .str.replace(\",\", \"\", regex=False)\n",
    "    .str.strip()\n",
    ")\n"
   ]
  },
  {
   "cell_type": "code",
   "execution_count": 106,
   "id": "e4eb41d3",
   "metadata": {},
   "outputs": [],
   "source": [
    "df[\"price\"] = pd.to_numeric(df[\"price\"], errors=\"coerce\")\n"
   ]
  },
  {
   "cell_type": "code",
   "execution_count": 133,
   "id": "c1fffbbe",
   "metadata": {},
   "outputs": [
    {
     "data": {
      "text/html": [
       "<div>\n",
       "<style scoped>\n",
       "    .dataframe tbody tr th:only-of-type {\n",
       "        vertical-align: middle;\n",
       "    }\n",
       "\n",
       "    .dataframe tbody tr th {\n",
       "        vertical-align: top;\n",
       "    }\n",
       "\n",
       "    .dataframe thead th {\n",
       "        text-align: right;\n",
       "    }\n",
       "</style>\n",
       "<table border=\"1\" class=\"dataframe\">\n",
       "  <thead>\n",
       "    <tr style=\"text-align: right;\">\n",
       "      <th></th>\n",
       "      <th>bathrooms</th>\n",
       "      <th>bedrooms</th>\n",
       "      <th>link</th>\n",
       "      <th>listing_type</th>\n",
       "      <th>location</th>\n",
       "      <th>price</th>\n",
       "      <th>purpose</th>\n",
       "      <th>size_sqm</th>\n",
       "      <th>title</th>\n",
       "      <th>source</th>\n",
       "      <th>price_per_sqm</th>\n",
       "      <th>beds_bin</th>\n",
       "    </tr>\n",
       "  </thead>\n",
       "  <tbody>\n",
       "    <tr>\n",
       "      <th>0</th>\n",
       "      <td>5.0</td>\n",
       "      <td>5</td>\n",
       "      <td>https://www.bayut.om/en/property/details-50002...</td>\n",
       "      <td>Villa</td>\n",
       "      <td>Al Buraimi, Al Buraimi</td>\n",
       "      <td>1200.0</td>\n",
       "      <td>For Sale</td>\n",
       "      <td>1500.0</td>\n",
       "      <td>5 Bedrooms Villa for Sale in Oman</td>\n",
       "      <td>bayut</td>\n",
       "      <td>0.8</td>\n",
       "      <td>(4, 6]</td>\n",
       "    </tr>\n",
       "    <tr>\n",
       "      <th>1</th>\n",
       "      <td>3.0</td>\n",
       "      <td>3</td>\n",
       "      <td>https://www.bayut.om/en/property/details-50002...</td>\n",
       "      <td>Apartment</td>\n",
       "      <td>Mahut, Al Wusta</td>\n",
       "      <td>1200.0</td>\n",
       "      <td>For Sale</td>\n",
       "      <td>1000.0</td>\n",
       "      <td>3 Bedrooms Apartment For Sale Mahut Al Wusta</td>\n",
       "      <td>bayut</td>\n",
       "      <td>1.2</td>\n",
       "      <td>(2, 3]</td>\n",
       "    </tr>\n",
       "    <tr>\n",
       "      <th>2</th>\n",
       "      <td>5.0</td>\n",
       "      <td>5</td>\n",
       "      <td>https://www.bayut.om/en/property/details-50002...</td>\n",
       "      <td>Villa</td>\n",
       "      <td>Qantab, Muscat</td>\n",
       "      <td>1500.0</td>\n",
       "      <td>For Sale</td>\n",
       "      <td>1500.0</td>\n",
       "      <td>5 Bedrooms Villa For Sale in Omani City</td>\n",
       "      <td>bayut</td>\n",
       "      <td>1.0</td>\n",
       "      <td>(4, 6]</td>\n",
       "    </tr>\n",
       "    <tr>\n",
       "      <th>3</th>\n",
       "      <td>5.0</td>\n",
       "      <td>5</td>\n",
       "      <td>https://www.bayut.om/en/property/details-50002...</td>\n",
       "      <td>Villa</td>\n",
       "      <td>Al Sifah, Muscat</td>\n",
       "      <td>1500.0</td>\n",
       "      <td>For Sale</td>\n",
       "      <td>1000.0</td>\n",
       "      <td>5 Bedrooms Villa For Sale in Al Sifah Muscat</td>\n",
       "      <td>bayut</td>\n",
       "      <td>1.5</td>\n",
       "      <td>(4, 6]</td>\n",
       "    </tr>\n",
       "    <tr>\n",
       "      <th>4</th>\n",
       "      <td>4.0</td>\n",
       "      <td>4</td>\n",
       "      <td>https://www.bayut.om/en/property/details-50002...</td>\n",
       "      <td>Villa</td>\n",
       "      <td>Hamra, Al Dakhiliya</td>\n",
       "      <td>1000.0</td>\n",
       "      <td>For Sale</td>\n",
       "      <td>1000.0</td>\n",
       "      <td>4 Bedrooms Villa For Sale in Hamra Al Dakhiliya</td>\n",
       "      <td>bayut</td>\n",
       "      <td>1.0</td>\n",
       "      <td>(3, 4]</td>\n",
       "    </tr>\n",
       "    <tr>\n",
       "      <th>...</th>\n",
       "      <td>...</td>\n",
       "      <td>...</td>\n",
       "      <td>...</td>\n",
       "      <td>...</td>\n",
       "      <td>...</td>\n",
       "      <td>...</td>\n",
       "      <td>...</td>\n",
       "      <td>...</td>\n",
       "      <td>...</td>\n",
       "      <td>...</td>\n",
       "      <td>...</td>\n",
       "      <td>...</td>\n",
       "    </tr>\n",
       "    <tr>\n",
       "      <th>6330</th>\n",
       "      <td>4.0</td>\n",
       "      <td>4</td>\n",
       "      <td>https://www.dubizzle.com.om/en/ad/three-levels...</td>\n",
       "      <td>For Sale</td>\n",
       "      <td>Al Khoud, Muscat</td>\n",
       "      <td>130000.0</td>\n",
       "      <td>Sale</td>\n",
       "      <td>200.0</td>\n",
       "      <td>three levels house innkhoud 3 flats rented</td>\n",
       "      <td>dubizzle</td>\n",
       "      <td>650.0</td>\n",
       "      <td>(3, 4]</td>\n",
       "    </tr>\n",
       "    <tr>\n",
       "      <th>6334</th>\n",
       "      <td>5.0</td>\n",
       "      <td>6</td>\n",
       "      <td>https://www.dubizzle.com.om/en/ad/amazing-hous...</td>\n",
       "      <td>For Sale</td>\n",
       "      <td>Al Khoud, Muscat</td>\n",
       "      <td>125000.0</td>\n",
       "      <td>Sale</td>\n",
       "      <td>200.0</td>\n",
       "      <td>amazing house near souq al khoud</td>\n",
       "      <td>dubizzle</td>\n",
       "      <td>625.0</td>\n",
       "      <td>(4, 6]</td>\n",
       "    </tr>\n",
       "    <tr>\n",
       "      <th>6338</th>\n",
       "      <td>3.0</td>\n",
       "      <td>2</td>\n",
       "      <td>https://www.dubizzle.com.om/en/ad/2bhk-apartme...</td>\n",
       "      <td>For Sale</td>\n",
       "      <td>Muscat Hills, Muscat</td>\n",
       "      <td>85000.0</td>\n",
       "      <td>Sale</td>\n",
       "      <td>200.0</td>\n",
       "      <td>2bhk apartment for sale</td>\n",
       "      <td>dubizzle</td>\n",
       "      <td>425.0</td>\n",
       "      <td>(1, 2]</td>\n",
       "    </tr>\n",
       "    <tr>\n",
       "      <th>6348</th>\n",
       "      <td>4.0</td>\n",
       "      <td>3</td>\n",
       "      <td>https://www.dubizzle.com.om/en/ad/%D9%81%D9%84...</td>\n",
       "      <td>For Sale</td>\n",
       "      <td>Barka, Al Batinah</td>\n",
       "      <td>49000.0</td>\n",
       "      <td>Sale</td>\n",
       "      <td>200.0</td>\n",
       "      <td></td>\n",
       "      <td>dubizzle</td>\n",
       "      <td>245.0</td>\n",
       "      <td>(2, 3]</td>\n",
       "    </tr>\n",
       "    <tr>\n",
       "      <th>6349</th>\n",
       "      <td>3.0</td>\n",
       "      <td>2</td>\n",
       "      <td>https://www.dubizzle.com.om/en/ad/%D9%84%D9%84...</td>\n",
       "      <td>For Sale</td>\n",
       "      <td>Al Maabilah, Muscat</td>\n",
       "      <td>28000.0</td>\n",
       "      <td>Sale</td>\n",
       "      <td>200.0</td>\n",
       "      <td></td>\n",
       "      <td>dubizzle</td>\n",
       "      <td>140.0</td>\n",
       "      <td>(1, 2]</td>\n",
       "    </tr>\n",
       "  </tbody>\n",
       "</table>\n",
       "<p>3251 rows × 12 columns</p>\n",
       "</div>"
      ],
      "text/plain": [
       "      bathrooms  bedrooms                                               link  \\\n",
       "0           5.0         5  https://www.bayut.om/en/property/details-50002...   \n",
       "1           3.0         3  https://www.bayut.om/en/property/details-50002...   \n",
       "2           5.0         5  https://www.bayut.om/en/property/details-50002...   \n",
       "3           5.0         5  https://www.bayut.om/en/property/details-50002...   \n",
       "4           4.0         4  https://www.bayut.om/en/property/details-50002...   \n",
       "...         ...       ...                                                ...   \n",
       "6330        4.0         4  https://www.dubizzle.com.om/en/ad/three-levels...   \n",
       "6334        5.0         6  https://www.dubizzle.com.om/en/ad/amazing-hous...   \n",
       "6338        3.0         2  https://www.dubizzle.com.om/en/ad/2bhk-apartme...   \n",
       "6348        4.0         3  https://www.dubizzle.com.om/en/ad/%D9%81%D9%84...   \n",
       "6349        3.0         2  https://www.dubizzle.com.om/en/ad/%D9%84%D9%84...   \n",
       "\n",
       "     listing_type                location     price   purpose  size_sqm  \\\n",
       "0           Villa  Al Buraimi, Al Buraimi    1200.0  For Sale    1500.0   \n",
       "1       Apartment         Mahut, Al Wusta    1200.0  For Sale    1000.0   \n",
       "2           Villa          Qantab, Muscat    1500.0  For Sale    1500.0   \n",
       "3           Villa        Al Sifah, Muscat    1500.0  For Sale    1000.0   \n",
       "4           Villa     Hamra, Al Dakhiliya    1000.0  For Sale    1000.0   \n",
       "...           ...                     ...       ...       ...       ...   \n",
       "6330     For Sale        Al Khoud, Muscat  130000.0      Sale     200.0   \n",
       "6334     For Sale        Al Khoud, Muscat  125000.0      Sale     200.0   \n",
       "6338     For Sale    Muscat Hills, Muscat   85000.0      Sale     200.0   \n",
       "6348     For Sale       Barka, Al Batinah   49000.0      Sale     200.0   \n",
       "6349     For Sale     Al Maabilah, Muscat   28000.0      Sale     200.0   \n",
       "\n",
       "                                                title    source  \\\n",
       "0                   5 Bedrooms Villa for Sale in Oman     bayut   \n",
       "1        3 Bedrooms Apartment For Sale Mahut Al Wusta     bayut   \n",
       "2             5 Bedrooms Villa For Sale in Omani City     bayut   \n",
       "3        5 Bedrooms Villa For Sale in Al Sifah Muscat     bayut   \n",
       "4     4 Bedrooms Villa For Sale in Hamra Al Dakhiliya     bayut   \n",
       "...                                               ...       ...   \n",
       "6330       three levels house innkhoud 3 flats rented  dubizzle   \n",
       "6334                 amazing house near souq al khoud  dubizzle   \n",
       "6338                          2bhk apartment for sale  dubizzle   \n",
       "6348                                                   dubizzle   \n",
       "6349                                                   dubizzle   \n",
       "\n",
       "      price_per_sqm beds_bin  \n",
       "0               0.8   (4, 6]  \n",
       "1               1.2   (2, 3]  \n",
       "2               1.0   (4, 6]  \n",
       "3               1.5   (4, 6]  \n",
       "4               1.0   (3, 4]  \n",
       "...             ...      ...  \n",
       "6330          650.0   (3, 4]  \n",
       "6334          625.0   (4, 6]  \n",
       "6338          425.0   (1, 2]  \n",
       "6348          245.0   (2, 3]  \n",
       "6349          140.0   (1, 2]  \n",
       "\n",
       "[3251 rows x 12 columns]"
      ]
     },
     "execution_count": 133,
     "metadata": {},
     "output_type": "execute_result"
    }
   ],
   "source": [
    "df"
   ]
  },
  {
   "cell_type": "code",
   "execution_count": 134,
   "id": "c746aa57",
   "metadata": {},
   "outputs": [
    {
     "data": {
      "text/plain": [
       "location\n",
       "Adam, Al Dakhiliya                39000.000000\n",
       "Al Amarat, Muscat                 69703.373418\n",
       "Al Buraimi, Al Buraimi           107823.076923\n",
       "Al Bustan, Muscat                 51470.000000\n",
       "Al Duqum, Al Wusta                39984.782609\n",
       "                                     ...      \n",
       "Thumrait, Dhofar                   8266.666667\n",
       "Wadi Al Ma'awal, Al Batinah      100000.000000\n",
       "Wadi Bani Khalid, Al Sharqiya      8000.000000\n",
       "Yiti, Muscat                     238409.881818\n",
       "Yunqul, Al Dhahirah               49900.000000\n",
       "Name: price, Length: 74, dtype: float64"
      ]
     },
     "execution_count": 134,
     "metadata": {},
     "output_type": "execute_result"
    }
   ],
   "source": [
    "df.groupby('location')['price'].mean()\n",
    "\n"
   ]
  },
  {
   "cell_type": "code",
   "execution_count": 126,
   "id": "ff3484be",
   "metadata": {},
   "outputs": [],
   "source": [
    "\n",
    "\n",
    "\n",
    "pat_int   = r'(\\d+)'                # bedrooms\n",
    "pat_float = r'(\\d+(?:\\.\\d+)?)'      # bathrooms (keeps 3.5)\n",
    "\n",
    "\n",
    "df['bedrooms'] = (pd.to_numeric(\n",
    "    df['bedrooms'].astype(str).str.extract(pat_int, expand=False),\n",
    "    errors='coerce'\n",
    ").astype('Int64'))\n",
    "\n",
    "\n",
    "df['bathrooms'] = (pd.to_numeric(\n",
    "    df['bathrooms'].astype(str).str.extract(pat_float, expand=False),\n",
    "    errors='coerce'\n",
    ").astype('Float64'))\n"
   ]
  },
  {
   "cell_type": "code",
   "execution_count": 128,
   "id": "d2e19e06",
   "metadata": {},
   "outputs": [
    {
     "name": "stdout",
     "output_type": "stream",
     "text": [
      "<class 'pandas.core.frame.DataFrame'>\n",
      "Index: 3518 entries, 0 to 6349\n",
      "Data columns (total 13 columns):\n",
      " #   Column         Non-Null Count  Dtype   \n",
      "---  ------         --------------  -----   \n",
      " 0   bathrooms      3518 non-null   Float64 \n",
      " 1   bedrooms       3518 non-null   Int64   \n",
      " 2   link           3518 non-null   string  \n",
      " 3   listing_type   3518 non-null   category\n",
      " 4   location       3518 non-null   string  \n",
      " 5   price          3518 non-null   float64 \n",
      " 6   purpose        3518 non-null   category\n",
      " 7   size_sqm       3518 non-null   Float64 \n",
      " 8   title          3518 non-null   string  \n",
      " 9   source         3518 non-null   category\n",
      " 10  price_per_sqm  3518 non-null   Float64 \n",
      " 11  rooms_total    3518 non-null   Float64 \n",
      " 12  beds_bin       3518 non-null   category\n",
      "dtypes: Float64(4), Int64(1), category(4), float64(1), string(3)\n",
      "memory usage: 306.5 KB\n"
     ]
    }
   ],
   "source": [
    "df.info()"
   ]
  },
  {
   "cell_type": "code",
   "execution_count": 119,
   "id": "c73073f7",
   "metadata": {},
   "outputs": [],
   "source": [
    "df['listing_type'] = df['listing_type'].astype('category')\n",
    "df['purpose']      = df['purpose'].astype('category')\n",
    "df['source']       = df['source'].astype('category')\n",
    "\n",
    "df['location']     = df['location'].astype('string')  # or 'category' if few uniques\n",
    "df['title']        = df['title'].astype('string')\n",
    "df['link']         = df['link'].astype('string')      # keeps URL text clean\n"
   ]
  },
  {
   "cell_type": "code",
   "execution_count": 111,
   "id": "58d18555",
   "metadata": {},
   "outputs": [],
   "source": [
    "df['bathrooms'] = df['bathrooms'].astype('Float64')\n",
    "df['bedrooms']  = df['bedrooms'].astype('Float64')\n"
   ]
  },
  {
   "cell_type": "code",
   "execution_count": 113,
   "id": "17ab8faa",
   "metadata": {},
   "outputs": [
    {
     "name": "stderr",
     "output_type": "stream",
     "text": [
      "C:\\Users\\bbuser\\AppData\\Local\\Temp\\ipykernel_5524\\637820612.py:7: FutureWarning: A value is trying to be set on a copy of a DataFrame or Series through chained assignment using an inplace method.\n",
      "The behavior will change in pandas 3.0. This inplace method will never work because the intermediate object on which we are setting values always behaves as a copy.\n",
      "\n",
      "For example, when doing 'df[col].method(value, inplace=True)', try using 'df.method({col: value}, inplace=True)' or df[col] = df[col].method(value) instead, to perform the operation inplace on the original object.\n",
      "\n",
      "\n",
      "  df['size_sqm'].fillna(df['size_sqm'].median(), inplace=True)\n"
     ]
    }
   ],
   "source": [
    "df['size_sqm'] = pd.to_numeric(\n",
    "    df['size_sqm'].astype(str).str.replace(',', '', regex=False)\n",
    "                  .str.extract(r'(\\d+(?:\\.\\d+)?)', expand=False),\n",
    "    errors='coerce'\n",
    ").astype('Float64')\n",
    "\n",
    "df['size_sqm'].fillna(df['size_sqm'].median(), inplace=True)"
   ]
  },
  {
   "cell_type": "code",
   "execution_count": 116,
   "id": "fd1716c4",
   "metadata": {},
   "outputs": [],
   "source": [
    "df.dropna(subset=['bedrooms'], inplace=True)\n"
   ]
  },
  {
   "cell_type": "markdown",
   "id": "5beb1a2a",
   "metadata": {},
   "source": [
    "## FEatures"
   ]
  },
  {
   "cell_type": "code",
   "execution_count": 123,
   "id": "202c1a10",
   "metadata": {},
   "outputs": [],
   "source": [
    "df['price_per_sqm'] = (df['price'] / df['size_sqm']).replace([np.inf, -np.inf], np.nan)\n",
    "\n"
   ]
  },
  {
   "cell_type": "code",
   "execution_count": 124,
   "id": "dd4bbb7f",
   "metadata": {},
   "outputs": [],
   "source": [
    "df['rooms_total']   = (df['bedrooms'] + df['bathrooms']).round(1)\n",
    "\n"
   ]
  },
  {
   "cell_type": "code",
   "execution_count": 125,
   "id": "79423246",
   "metadata": {},
   "outputs": [],
   "source": [
    "\n",
    "df['beds_bin'] = pd.cut(df['bedrooms'], bins=[0,1,2,3,4,6,15], right=True)"
   ]
  },
  {
   "cell_type": "code",
   "execution_count": 129,
   "id": "00a61f8d",
   "metadata": {},
   "outputs": [],
   "source": [
    "# URL is usually unique but incase there ar dublicates drop here\n",
    "df = df.drop_duplicates(subset=['link'])\n",
    "\n"
   ]
  },
  {
   "cell_type": "code",
   "execution_count": 130,
   "id": "a5f96c74",
   "metadata": {},
   "outputs": [
    {
     "name": "stderr",
     "output_type": "stream",
     "text": [
      "C:\\Users\\bbuser\\AppData\\Local\\Temp\\ipykernel_5524\\1637414179.py:1: SettingWithCopyWarning: \n",
      "A value is trying to be set on a copy of a slice from a DataFrame.\n",
      "Try using .loc[row_indexer,col_indexer] = value instead\n",
      "\n",
      "See the caveats in the documentation: https://pandas.pydata.org/pandas-docs/stable/user_guide/indexing.html#returning-a-view-versus-a-copy\n",
      "  df['rooms_total'] = (df['bedrooms'] + df['bathrooms']).round(1)\n"
     ]
    }
   ],
   "source": [
    "df['rooms_total'] = (df['bedrooms'] + df['bathrooms']).round(1)\n",
    "\n"
   ]
  },
  {
   "cell_type": "code",
   "execution_count": 132,
   "id": "ebb9ae42",
   "metadata": {},
   "outputs": [
    {
     "name": "stderr",
     "output_type": "stream",
     "text": [
      "C:\\Users\\bbuser\\AppData\\Local\\Temp\\ipykernel_5524\\304732328.py:1: SettingWithCopyWarning: \n",
      "A value is trying to be set on a copy of a slice from a DataFrame\n",
      "\n",
      "See the caveats in the documentation: https://pandas.pydata.org/pandas-docs/stable/user_guide/indexing.html#returning-a-view-versus-a-copy\n",
      "  df.drop(columns=['rooms_total'], errors='ignore', inplace=True)\n"
     ]
    }
   ],
   "source": [
    "df.drop(columns=['rooms_total'], errors='ignore', inplace=True)\n"
   ]
  },
  {
   "cell_type": "code",
   "execution_count": 136,
   "id": "8c1fb1ec",
   "metadata": {},
   "outputs": [
    {
     "name": "stdout",
     "output_type": "stream",
     "text": [
      "\n",
      " Cleaned data saved to: ..\\data\\processed\\cleaned_properties.csv\n",
      " Final shape: (3251, 12)\n"
     ]
    }
   ],
   "source": [
    "output_path = os.path.join(\"..\", \"data\", \"processed\", \"cleaned_properties.csv\")\n",
    "os.makedirs(os.path.dirname(output_path), exist_ok=True)\n",
    "df.to_csv(output_path, index=False)\n",
    "\n",
    "print(f\"\\n Cleaned data saved to: {output_path}\")\n",
    "print(f\" Final shape: {df.shape}\")"
   ]
  },
  {
   "cell_type": "code",
   "execution_count": 137,
   "id": "2a6972c2",
   "metadata": {},
   "outputs": [
    {
     "data": {
      "text/plain": [
       "'..\\\\data\\\\processed\\\\cleaned_properties.csv'"
      ]
     },
     "execution_count": 137,
     "metadata": {},
     "output_type": "execute_result"
    }
   ],
   "source": [
    "output_path"
   ]
  }
 ],
 "metadata": {
  "kernelspec": {
   "display_name": "Python 3",
   "language": "python",
   "name": "python3"
  },
  "language_info": {
   "codemirror_mode": {
    "name": "ipython",
    "version": 3
   },
   "file_extension": ".py",
   "mimetype": "text/x-python",
   "name": "python",
   "nbconvert_exporter": "python",
   "pygments_lexer": "ipython3",
   "version": "3.13.3"
  }
 },
 "nbformat": 4,
 "nbformat_minor": 5
}
